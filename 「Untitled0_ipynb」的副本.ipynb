{
  "nbformat": 4,
  "nbformat_minor": 0,
  "metadata": {
    "colab": {
      "provenance": [],
      "authorship_tag": "ABX9TyM8OJrXgSzyZwe2EA0jZIpB",
      "include_colab_link": true
    },
    "kernelspec": {
      "name": "python3",
      "display_name": "Python 3"
    },
    "language_info": {
      "name": "python"
    }
  },
  "cells": [
    {
      "cell_type": "markdown",
      "metadata": {
        "id": "view-in-github",
        "colab_type": "text"
      },
      "source": [
        "<a href=\"https://colab.research.google.com/github/frust2403/Project_samba/blob/main/%E3%80%8CUntitled0_ipynb%E3%80%8D%E7%9A%84%E5%89%AF%E6%9C%AC.ipynb\" target=\"_parent\"><img src=\"https://colab.research.google.com/assets/colab-badge.svg\" alt=\"Open In Colab\"/></a>"
      ]
    },
    {
      "cell_type": "code",
      "execution_count": null,
      "metadata": {
        "colab": {
          "base_uri": "https://localhost:8080/"
        },
        "id": "Ygo_qWg1T_rL",
        "outputId": "dc3433ea-5c14-4cd2-dc11-9290f375a0e1"
      },
      "outputs": [
        {
          "output_type": "stream",
          "name": "stdout",
          "text": [
            "8\n",
            "23.5 26.1 27.0 25.0 28.9 29.2 24.8 26.0\n",
            "27.5\n",
            "===BUCKET===\n",
            "{'<18': 0, '18-25': 3, '25-30': 5, '>=30': 0}\n",
            "Avg:26.3125\n",
            "Max:29.2\n",
            "Min:23.5\n",
            "===ALERT===\n",
            "Threshold:27.5\n",
            "Hot Count: 2\n",
            "Hot List: [28.9, 29.2]\n"
          ]
        }
      ],
      "source": [
        "n = int(input())\n",
        "temps_str = input()\n",
        "temps = [float(temp) for temp in temps_str.split()]\n",
        "Total = n\n",
        "Avg = sum(temps) / n\n",
        "Max = max(temps)\n",
        "Min = min(temps)\n",
        "buckets = {\"<18\": 0, \"18-25\": 0, \"25-30\": 0, \">=30\": 0}\n",
        "for temp in temps:\n",
        "    if temp < 18:\n",
        "        buckets[\"<18\"] += 1\n",
        "    elif 18 < temp <= 25:\n",
        "        buckets[\"18-25\"] += 1\n",
        "    elif 25 < temp <= 30:\n",
        "        buckets[\"25-30\"] += 1\n",
        "    else:  # temp >= 30\n",
        "        buckets[\">=30\"] += 1\n",
        "print(\"===BUCKET===\")\n",
        "print(buckets)\n",
        "hot_list = [temp for temp in temps if temp > reject]\n",
        "HotCount = len(hot_list)\n",
        "\n",
        "print(f\"Avg:{Avg}\")\n",
        "print(f\"Max:{Max}\")\n",
        "print(f\"Min:{Min}\")\n",
        "print(\"===ALERT===\")\n",
        "print(f\"Threshold:{reject}\")\n",
        "print(f\"Hot Count: {HotCount}\")\n",
        "print(f\"Hot List: {hot_list}\")"
      ]
    },
    {
      "cell_type": "code",
      "metadata": {
        "colab": {
          "base_uri": "https://localhost:8080/"
        },
        "id": "3cc20e7a",
        "outputId": "28e1b489-651a-4a80-bd95-b4cbce91ca9d"
      },
      "source": [
        "num_students = int(input(\"number of students: \"))\n",
        "consumption = []\n",
        "for _ in range(num_students):\n",
        "    record_str = input().split()\n",
        "    name = record_str[0]\n",
        "    unit_price = float(record_str[1])\n",
        "    quantity = int(record_str[2])\n",
        "    consumption.append({\"name\": name, \"price\": unit_price, \"qty\": quantity})\n",
        "\n",
        "discount = int(input(\"Enter the discount percentage (e.g., 90 for 10% off): \"))\n",
        "processed = []\n",
        "for record in consumption:\n",
        "    total_amount = record[\"price\"] * record[\"qty\"]\n",
        "    discounted_amount = round(total_amount * (discount / 100), 1)\n",
        "    processed.append({\n",
        "        \"name\": record[\"name\"],\n",
        "        \"original_price\": record[\"price\"],\n",
        "        \"quantity\": record[\"qty\"],\n",
        "        \"total_amount_be\": total_amount,\n",
        "        \"discounted_amount\": discounted_amount\n",
        "    })\n",
        "\n",
        "total_discounted_amount = sum(record[\"discounted_amount\"] for record in processed)\n",
        "avg_discounted_amount = round(total_discounted_amount / len(processed), 1)\n",
        "max = max(processed, key=lambda x: x[\"discounted_amount\"])\n",
        "min = min(processed, key=lambda x: x[\"discounted_amount\"])\n",
        "print(f\"=== Summary ===\")\n",
        "print(f\"折扣:{discount_percentage}%\")\n",
        "print(f\"總人數:{num_students}\")\n",
        "print(f\"總金額: {total_discounted_amount}\")\n",
        "print(f\"平均: {avg_discounted_amount}\")\n",
        "print(f\"最高: {max['name']} ({max['discounted_amount']})\")\n",
        "print(f\"最低: {min['name']} ({min['discounted_amount']})\")"
      ],
      "execution_count": null,
      "outputs": [
        {
          "output_type": "stream",
          "name": "stdout",
          "text": [
            "number of students: 3\n",
            "Amy 45 2\n",
            "Bob 60 2\n",
            "Carol 30 4\n",
            "Enter the discount percentage (e.g., 90 for 10% off): 90\n",
            "=== Summary ===\n",
            "折扣:90%\n",
            "總人數:3\n",
            "總金額: 297.0\n",
            "平均: 99.0\n",
            "最高: Bob (108.0)\n",
            "最低: Amy (81.0)\n"
          ]
        }
      ]
    },
    {
      "cell_type": "code",
      "source": [
        "num_vehicles = int(input())\n",
        "vehicle_records = []\n",
        "for _ in range(num_vehicles):\n",
        "    record_str = input().split()\n",
        "    vehicle_type = record_str[0]\n",
        "    hours = int(record_str[1])\n",
        "    vehicle_records.append({\"type\": vehicle_type.lower(), \"hours\": hours})\n",
        "car_rate = 40\n",
        "moto_rate = 20\n",
        "total_fee = 0\n",
        "fees = []\n",
        "total_cars = 0\n",
        "for record in vehicle_records:\n",
        "    vehicle_type = record[\"type\"]\n",
        "    hours = record[\"hours\"]\n",
        "    fee = 0\n",
        "    if vehicle_type == \"car\":\n",
        "        fee = hours * car_rate\n",
        "        total_cars += 1\n",
        "    elif vehicle_type == \"moto\":\n",
        "        fee = hours * moto_rate\n",
        "\n",
        "    fees.append(fee)\n",
        "    total_fee += fee\n",
        "    print(f\"Fee: {fee}\")\n",
        "\n",
        "max_fee_value = max(fees) if fees else 0\n",
        "min_fee_value = min(fees) if fees else 0\n",
        "\n",
        "print(\"=== Summary ===\")\n",
        "print(f\"TotalCars: {total_cars}\")\n",
        "print(f\"TotalFee: {total_fee}\")\n",
        "print(f\"MaxFee: {max_fee_value}\")\n",
        "print(f\"MinFee: {min_fee_value}\")"
      ],
      "metadata": {
        "colab": {
          "base_uri": "https://localhost:8080/"
        },
        "id": "PrR1CBbzkEn0",
        "outputId": "de76ba3f-0e41-4e52-94bb-1227744c01f5"
      },
      "execution_count": 2,
      "outputs": [
        {
          "output_type": "stream",
          "name": "stdout",
          "text": [
            "3\n",
            "car 2\n",
            "moto 3\n",
            "CAR 1\n",
            "Fee: 80\n",
            "Fee: 60\n",
            "Fee: 40\n",
            "=== Summary ===\n",
            "TotalCars: 2\n",
            "TotalFee: 180\n",
            "MaxFee: 80\n",
            "MinFee: 40\n"
          ]
        }
      ]
    }
  ]
}